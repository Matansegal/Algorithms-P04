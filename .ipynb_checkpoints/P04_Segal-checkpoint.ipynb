{
 "cells": [
  {
   "cell_type": "markdown",
   "metadata": {},
   "source": [
    "# Project 4 - Matan Segal\n",
    "\n",
    "The area of algorithm I chose is number theoretic algorithm.\n",
    "The problem I chose in the area is finding the greatest common divider (GCD) of two integers. The GCD is useful for reducing fractions to be the lowest terms. Also, it is useful to find the least common multiple of two integers which helpful in solving Diophantine equations which are main subject in chemical euqations and Cryptography methods.\n",
    "\n",
    "### Trivial solution:\n",
    "\n",
    "First, I will implement the trivial solution in order to find the GCD. The trivial solution is simple iteration trough all the integers until we get to the smaller number among the two given integers:"
   ]
  },
  {
   "cell_type": "code",
   "execution_count": 130,
   "metadata": {},
   "outputs": [],
   "source": [
    "def trivial_GCD(a,b):\n",
    "    gcd = 1\n",
    "    for i in range(2,min(a,b)+1):\n",
    "        if(a%i == 0 and b%i == 0):\n",
    "            gcd = i\n",
    "            \n",
    "    return gcd"
   ]
  },
  {
   "cell_type": "markdown",
   "metadata": {},
   "source": [
    "Testing the trivial solution for the GCD with 1768 and 255:"
   ]
  },
  {
   "cell_type": "code",
   "execution_count": 131,
   "metadata": {},
   "outputs": [
    {
     "data": {
      "text/plain": [
       "17"
      ]
     },
     "execution_count": 131,
     "metadata": {},
     "output_type": "execute_result"
    }
   ],
   "source": [
    "trivial_GCD(1768,255)"
   ]
  },
  {
   "cell_type": "markdown",
   "metadata": {},
   "source": [
    "We can clearly see that the $big-O$ of this algorithm is $O(n)$ where $n$ is $min(a,b)$\n",
    "\n",
    "### Non-trivial Solution:\n",
    "\n",
    "The non-trivial solution and currently the most efficient way finding the GCD, is the ***Euclidean’s Algorithm***. The algorithm based on the principle that the GCD of two numbers is the same as the GCD of the reminder of dividing the larger number by the smaller one and the smaller number. Since this procedure decrease the size of the numbers, The GCD will be the last non-zero reminder. \n",
    "Proof of this principle we can see below[1]:\n",
    "\n",
    "Suppose we have three integers $A,B$ and $C$ such that $A-B=C$.\n",
    "\n",
    "Proof that the $GCD(A,B)$ evenly divides $C$:\n",
    "\n",
    "The $GCD(A,B)$, by definition, evenly divides $A$. As a result, $A$ must be some multiple of $GCD(A,B)$. \n",
    "\n",
    "i.e. $X⋅GCD(A,B)=A$ where $X$ is some integer\n",
    "\n",
    "The $GCD(A,B)$, by definition, evenly divides $B$. As a result, $B$ must be some multiple of $GCD(A,B)$. \n",
    "\n",
    "i.e. $Y⋅GCD(A,B)=B$ where $Y$ is some integer\n",
    "\n",
    "$A-B=C$ gives us:\n",
    "\n",
    "$X⋅GCD(A,B) - Y⋅GCD(A,B) = C$\n",
    "\n",
    "$(X - Y)⋅GCD(A,B) = C$\n",
    "\n",
    "So we can see that $GCD(A,B)$ evenly divides $C$.\n",
    "\n",
    "The same procedure will be repeated until the reminder will be zero, while the $GCD$ of $A$ and $B$ is the reminder one iteration before it.\n",
    "\n",
    "[1] https://www.khanacademy.org/computing/computer-science/cryptography/modarithmetic/a/the-euclidean-algorithm\n",
    "\n"
   ]
  },
  {
   "cell_type": "code",
   "execution_count": 132,
   "metadata": {},
   "outputs": [],
   "source": [
    "def GCD(a,b):\n",
    "    # let a be larger than b\n",
    "    r = a % b\n",
    "    # base case\n",
    "    if (r == 0):\n",
    "        # b is the previous reminder\n",
    "        return b\n",
    "    # sending b as a and r as b\n",
    "    return GCD(b,r)"
   ]
  },
  {
   "cell_type": "code",
   "execution_count": 133,
   "metadata": {},
   "outputs": [
    {
     "data": {
      "text/plain": [
       "17"
      ]
     },
     "execution_count": 133,
     "metadata": {},
     "output_type": "execute_result"
    }
   ],
   "source": [
    "GCD(1768,255)"
   ]
  },
  {
   "cell_type": "markdown",
   "metadata": {},
   "source": [
    "Since each iteration the numbers gets smaller by unknown value the $big-O$ of this algorithm can not be determined, but on average, it performs better than $O(lgn)$ because each iteration the numbers get smaller by more than half. the algorithm never requires more steps than five times the number of digits of the smaller integer."
   ]
  },
  {
   "cell_type": "markdown",
   "metadata": {},
   "source": [
    "### Comparison\n",
    "\n",
    "In order to compare their time performance, I will randomly send two numbers to both function starting with four-digit number and a three-digit number and go up to an nine-digit number and a eight-digit number. Each step I will run 3 time. "
   ]
  },
  {
   "cell_type": "code",
   "execution_count": 134,
   "metadata": {},
   "outputs": [
    {
     "name": "stdout",
     "output_type": "stream",
     "text": [
      "\n",
      "Numbers: 4343 893\n",
      "  Trivial:    1 time: 0.001020193099975586\n",
      "  Non-trivial: 1 time: 0.0\n",
      "\n",
      "Numbers: 1344 834\n",
      "  Trivial:    6 time: 0.0\n",
      "  Non-trivial: 6 time: 0.0\n",
      "\n",
      "Numbers: 2993 187\n",
      "  Trivial:    1 time: 0.0\n",
      "  Non-trivial: 1 time: 0.0\n",
      "\n",
      "Numbers: 48677 5229\n",
      "  Trivial:    1 time: 0.0\n",
      "  Non-trivial: 1 time: 0.0\n",
      "\n",
      "Numbers: 73915 7624\n",
      "  Trivial:    1 time: 0.0\n",
      "  Non-trivial: 1 time: 0.0\n",
      "\n",
      "Numbers: 31083 9614\n",
      "  Trivial:    1 time: 0.0009984970092773438\n",
      "  Non-trivial: 1 time: 0.0\n",
      "\n",
      "Numbers: 160111 99932\n",
      "  Trivial:    7 time: 0.009986400604248047\n",
      "  Non-trivial: 7 time: 0.0\n",
      "\n",
      "Numbers: 189080 13843\n",
      "  Trivial:    1 time: 0.002007007598876953\n",
      "  Non-trivial: 1 time: 0.0\n",
      "\n",
      "Numbers: 256263 83772\n",
      "  Trivial:    3 time: 0.010993242263793945\n",
      "  Non-trivial: 3 time: 0.0\n",
      "\n",
      "Numbers: 4431919 897687\n",
      "  Trivial:    1 time: 0.14599990844726562\n",
      "  Non-trivial: 1 time: 0.0\n",
      "\n",
      "Numbers: 7105482 601564\n",
      "  Trivial:    2 time: 0.07699871063232422\n",
      "  Non-trivial: 2 time: 0.0\n",
      "\n",
      "Numbers: 8430830 260894\n",
      "  Trivial:    2 time: 0.030011892318725586\n",
      "  Non-trivial: 2 time: 0.0\n",
      "\n",
      "Numbers: 18995058 4264563\n",
      "  Trivial:    3 time: 0.3359830379486084\n",
      "  Non-trivial: 3 time: 0.0\n",
      "\n",
      "Numbers: 85730396 3768073\n",
      "  Trivial:    1 time: 0.30104565620422363\n",
      "  Non-trivial: 1 time: 0.0\n",
      "\n",
      "Numbers: 73236454 2492512\n",
      "  Trivial:    2 time: 0.2310037612915039\n",
      "  Non-trivial: 2 time: 0.0\n",
      "\n",
      "Numbers: 565183335 84023403\n",
      "  Trivial:    3 time: 6.149993419647217\n",
      "  Non-trivial: 3 time: 0.0\n",
      "\n",
      "Numbers: 546515943 28370583\n",
      "  Trivial:    3 time: 2.1530025005340576\n",
      "  Non-trivial: 3 time: 0.0\n",
      "\n",
      "Numbers: 814837870 58098709\n",
      "  Trivial:    1 time: 4.481032848358154\n",
      "  Non-trivial: 1 time: 0.0\n"
     ]
    }
   ],
   "source": [
    "import random\n",
    "import time\n",
    "\n",
    "low = 100\n",
    "med = 1000\n",
    "high = 10000\n",
    "\n",
    "trival = []\n",
    "nonTri = []\n",
    "\n",
    "for i in range(6):\n",
    "    for j in range(3):\n",
    "        b = random.randint(low, med)\n",
    "        a = random.randint(med, high)\n",
    "        t1 = time.time()\n",
    "        sol1 = trivial_GCD(a,b)\n",
    "        t2 = time.time()\n",
    "        sol2 = GCD(a,b)\n",
    "        t3 = time.time()\n",
    "        print('\\nNumbers:',a,b)\n",
    "        print('  Trivial:   ',sol1,'time:',t2-t1)\n",
    "        print('  Non-trivial:',sol2,'time:',t3-t2)\n",
    "        trival.append(t2-t1)\n",
    "        nonTri.append(t3-t2)\n",
    "    \n",
    "    low = med\n",
    "    med = high \n",
    "    high = high *10\n"
   ]
  },
  {
   "cell_type": "code",
   "execution_count": 135,
   "metadata": {},
   "outputs": [
    {
     "name": "stdout",
     "output_type": "stream",
     "text": [
      "\n",
      "Numbers:\n",
      " 9154122459 \n",
      " 585577083\n",
      "  GCD: 3 time: 0.0\n",
      "\n",
      "Numbers:\n",
      " 91908880438 \n",
      " 2460610194\n",
      "  GCD: 2 time: 0.0\n",
      "\n",
      "Numbers:\n",
      " 606497222470 \n",
      " 30121862521\n",
      "  GCD: 1 time: 0.0\n",
      "\n",
      "Numbers:\n",
      " 4135958052275 \n",
      " 770174379392\n",
      "  GCD: 1 time: 0.0\n",
      "\n",
      "Numbers:\n",
      " 10367833942227 \n",
      " 7952935186592\n",
      "  GCD: 1 time: 0.0\n",
      "\n",
      "Numbers:\n",
      " 986146966860976 \n",
      " 43127091399306\n",
      "  GCD: 2 time: 0.0\n",
      "\n",
      "Numbers:\n",
      " 2942679612263863 \n",
      " 186163948445120\n",
      "  GCD: 1 time: 0.0\n",
      "\n",
      "Numbers:\n",
      " 43896083429010674 \n",
      " 8815292253360258\n",
      "  GCD: 2 time: 0.0\n",
      "\n",
      "Numbers:\n",
      " 880663918973810332 \n",
      " 55013048468957682\n",
      "  GCD: 2 time: 0.0\n",
      "\n",
      "Numbers:\n",
      " 1921391596752636319 \n",
      " 569744411836767694\n",
      "  GCD: 1 time: 0.0\n",
      "\n",
      "Numbers:\n",
      " 29551819259251103845 \n",
      " 2164167751529943016\n",
      "  GCD: 1 time: 0.0\n",
      "\n",
      "Numbers:\n",
      " 634224626457749970371 \n",
      " 41933074558561403783\n",
      "  GCD: 1 time: 0.0\n",
      "\n",
      "Numbers:\n",
      " 5782802254328337452885 \n",
      " 882598012183130277099\n",
      "  GCD: 1 time: 0.0\n",
      "\n",
      "Numbers:\n",
      " 72160433788269363722297 \n",
      " 6667529362588810632797\n",
      "  GCD: 1 time: 0.0\n",
      "\n",
      "Numbers:\n",
      " 657856055047261060111664 \n",
      " 83588981223297093320068\n",
      "  GCD: 4 time: 0.0\n",
      "\n",
      "Numbers:\n",
      " 7027555319351918196631369 \n",
      " 487474785575034233692398\n",
      "  GCD: 1 time: 0.0\n",
      "\n",
      "Numbers:\n",
      " 49423617090632701623951730 \n",
      " 6500701665995579378722734\n",
      "  GCD: 2 time: 0.0\n",
      "\n",
      "Numbers:\n",
      " 966506428805281611223537398 \n",
      " 24439934037736704904642179\n",
      "  GCD: 3 time: 0.0\n",
      "\n",
      "Numbers:\n",
      " 5423095848669575953500700087 \n",
      " 574141563990701713023210658\n",
      "  GCD: 1 time: 0.0\n",
      "\n",
      "Numbers:\n",
      " 39049110641390271601768755454 \n",
      " 1267838920339502853335900509\n",
      "  GCD: 1 time: 0.0\n",
      "\n",
      "Numbers:\n",
      " 890296631851677296172851596257 \n",
      " 41148593500521463371319135434\n",
      "  GCD: 3 time: 0.0\n",
      "\n",
      "Numbers:\n",
      " 3132928210280122896478604507203 \n",
      " 140568668201759404911346293231\n",
      "  GCD: 1 time: 0.001001596450805664\n"
     ]
    }
   ],
   "source": [
    "# continuing just with the euclidean algorith until the sensitivity of the time\n",
    "# function can declare the running time of the algorithm\n",
    "\n",
    "t = 0\n",
    "\n",
    "while t == 0:  \n",
    "    b = random.randint(low, med)\n",
    "    a = random.randint(med, high)\n",
    "    t2 = time.time()\n",
    "    sol2 = GCD(a,b)\n",
    "    t3 = time.time()\n",
    "    t = t3-t2\n",
    "    print('\\nNumbers:\\n',a,'\\n',b)\n",
    "    print('  GCD:',sol2,'time:',t)\n",
    "    nonTri.append(t)\n",
    "    low = med\n",
    "    med = high \n",
    "    high = high *10"
   ]
  },
  {
   "cell_type": "code",
   "execution_count": 136,
   "metadata": {},
   "outputs": [
    {
     "name": "stdout",
     "output_type": "stream",
     "text": [
      "b_range: (31, 32)\n",
      "a_range: (32, 33)\n"
     ]
    }
   ],
   "source": [
    "# print the number of digits range on the last iteration\n",
    "import math\n",
    "\n",
    "b_range = (int(math.log10(low))+1,int(math.log10(med))+1)\n",
    "a_range = (int(math.log10(med))+1,int(math.log10(high))+1)\n",
    "\n",
    "print('b_range:',b_range)\n",
    "print('a_range:',a_range)"
   ]
  },
  {
   "cell_type": "markdown",
   "metadata": {},
   "source": [
    "It is possible to messure the running time of the Euclidean algorithm just when we are using numbers with more than 31 digits!"
   ]
  },
  {
   "cell_type": "code",
   "execution_count": 143,
   "metadata": {},
   "outputs": [],
   "source": [
    "# contine with the Euclidean algorithm:\n",
    "while math.log10(high) < 1500:  \n",
    "    b = random.randint(low, med)\n",
    "    a = random.randint(med, high)\n",
    "    t2 = time.time()\n",
    "    sol2 = GCD(a,b)\n",
    "    t3 = time.time()\n",
    "    t = t3-t2\n",
    "    nonTri.append(t)\n",
    "    low = med\n",
    "    med = high \n",
    "    high = high *10"
   ]
  },
  {
   "cell_type": "code",
   "execution_count": 144,
   "metadata": {},
   "outputs": [
    {
     "data": {
      "text/plain": [
       "<matplotlib.legend.Legend at 0x25f822a8d88>"
      ]
     },
     "execution_count": 144,
     "metadata": {},
     "output_type": "execute_result"
    },
    {
     "data": {
      "image/png": "[encoded data removed]",
      "text/plain": [
       "<Figure size 432x288 with 1 Axes>"
      ]
     },
     "metadata": {
      "needs_background": "light"
     },
     "output_type": "display_data"
    }
   ],
   "source": [
    "import matplotlib.pyplot as plt\n",
    "\n",
    "plt.ylabel('Running Time (sec)')\n",
    "plt.xlabel('test number')\n",
    "plt.plot(trival, label=\"trivial\")\n",
    "plt.plot(nonTri, label=\"Euclidean\")\n",
    "plt.legend()"
   ]
  },
  {
   "cell_type": "markdown",
   "metadata": {},
   "source": [
    "Even when calculating the GCD of almost 1500 digit numbers, the Euclidean algorithm's run time is barely measurable! "
   ]
  },
  {
   "cell_type": "markdown",
   "metadata": {},
   "source": [
    "## The extended Euclidean algorithm\n",
    "\n",
    "The greatness of the Euclidean algorithm I described above is actually not finding the GCD, but its leading to the implementation of the extended Euclidean algorithm. It is used for finding the greatest common divisor of two positive integers a and b and writing this greatest common divisor as an integer linear combination of a and b. For example, let $c = GCD(a,b)$ so c can be written as $$ax + by = c$$ \n",
    "\n",
    "where x and y are integers. This linear connection called Diophantine equations, and the extended Euclidean algorithm give us the a solution of this equation.\n",
    "\n",
    "The steps of this algorithm are given below[2]:\n",
    "1.\tSet the value of the variable c to the larger of the two values a and b, and set d to the smaller of a and b.\n",
    "2.\tFind the quotient and the remainder when c is divided by d. Call the quotient q and the remainder r. Use the division algorithm and expressions for previous remainders to write an expression for r in terms of a and b.\n",
    "3.\tIf r = 0, then $gcd(a, b) = d$. The expression for the previous value of r gives an expression for $gcd(a, b)$ in terms of a and b. Stop.\n",
    "4.\tOtherwise, use the current values of d and r as the new values of c and d, respectively, and go back to step 2.\n",
    "\n",
    "\n",
    "#### We should define between three cases:\n",
    "-\t**Case 1: c = gcd(a, b):**\n",
    "Like we saw before, in this case we will be able to find the solution for the  Diophantine equations where 𝑎𝑥+𝑏𝑦=𝑐.\n",
    "-\t**Case 2: c is a multiple of gcd(a, b):**\n",
    "Let c be multiply by k, so we will have the equation 𝑎𝑥’+𝑏𝑦’=𝑐k. If we will use the equation from case 1 and multiply it by k, we will get: 𝑎𝑥k+𝑏𝑦k=𝑐k, means that x’ = xk ad y’ = yk. Since multiplication of integers is always an integer this is the solution for the Diophantine equation.\n",
    "-\t**Case 3: c is not a multiple of gcd(a, b):**\n",
    "In this case, it turns out that If c is not a multiple of gcd(a, b), then there are no integer solutions to the equation ax + by = c, means no solution for the  Diophantine equation. Using this statement means that **the extended Euclidean Algorithm is a way to know if there is a solution for a Diophantine equation and a way to find it.**\n",
    "\n",
    "[2] http://www.math.cmu.edu/~bkell/21110-2010s/extended-euclidean.html\n"
   ]
  },
  {
   "cell_type": "code",
   "execution_count": 2,
   "metadata": {},
   "outputs": [],
   "source": [
    "# returns the solution for xa + yb = c and the gcd\n",
    "# as (x,y,gcd)\n",
    "def ex_Euclidean(a,b,c):    \n",
    "       \n",
    "    # list to store all the multiplyer m in each step such that\n",
    "    # a = mb + r, until we get a reminder of 0\n",
    "    m_list = []\n",
    "    r = 1\n",
    "    \n",
    "    # using iterative Euclidean algorithm:\n",
    "    while r != 0:\n",
    "        r = a % b\n",
    "        m = int(a/b)\n",
    "        m_list.append(m)\n",
    "        a , b = b , r\n",
    "    \n",
    "    # end the while loop with a as the gcd\n",
    "    # check if there is a solution\n",
    "    gcd = a\n",
    "    if c % gcd != 0:\n",
    "        return False \n",
    "    \n",
    "    # multiplyer\n",
    "    k = int(c/gcd)    \n",
    "    \n",
    "    #since we start from the last to the first, reverse the order\n",
    "    m_list.reverse()\n",
    "    \n",
    "    # since we will represent the equation as r = a -mb, we see that \n",
    "    # it start as x = 1 nd y = -m \n",
    "    x = 1\n",
    "    y = -m_list[1] # -m, skipping the last step where r = 0\n",
    "    for i in range(2,len(m_list)):\n",
    "        tmp = x\n",
    "        x = y\n",
    "        y = y*(-m_list[i])+tmp\n",
    "        \n",
    "    # return the values times the multiplyer k and the gcd\n",
    "    return k*x,k*y,gcd\n",
    "    "
   ]
  },
  {
   "cell_type": "code",
   "execution_count": 195,
   "metadata": {},
   "outputs": [],
   "source": [
    "l = ex_Euclidean(1180,482,2)"
   ]
  },
  {
   "cell_type": "code",
   "execution_count": 196,
   "metadata": {},
   "outputs": [
    {
     "name": "stdout",
     "output_type": "stream",
     "text": [
      "(-29, 71)\n"
     ]
    }
   ],
   "source": [
    "if l:\n",
    "    print(l[:2])\n",
    "else:\n",
    "    print(\"No integer solution\")"
   ]
  },
  {
   "cell_type": "markdown",
   "metadata": {},
   "source": [
    "The values we recived back is a solution for the equation $$x 1180 + y 482 = 2$$\n",
    "\n",
    "Which is $x = -29 , y = 71$ \n"
   ]
  },
  {
   "attachments": {},
   "cell_type": "markdown",
   "metadata": {},
   "source": [
    "### Getting all the solutions\n",
    "The solution we saw above is just one solution among infinite of solutions, so we will represent it as:  "
   ]
  },
  {
   "attachments": {},
   "cell_type": "markdown",
   "metadata": {},
   "source": [
    "$$a⋅x_0+b⋅y_0=c$$\n",
    "\n",
    "In order to have the set of all the solutions we will go through the following procedure:\n",
    "We will add $\\frac{b}{g}$ to $x_0$ and subtract $\\frac{a}{g}$ from $y_0$, where $g$ is $GCD(a,b)$. From the definition of GCD, we know that $\\frac{b}{g}$ and $\\frac{a}{g}$ must being integers. Our equation will look like:\n",
    "\n",
    "$$a⋅(x_0+b/g)+b⋅(y_0-a/g) = a⋅x_0+b⋅y_0+a⋅b/g-b⋅a/g=c$$\n",
    "\n",
    "We see that the parts that we added cancel each other and we did not affected the original solution."
   ]
  },
  {
   "attachments": {},
   "cell_type": "markdown",
   "metadata": {},
   "source": [
    "Therefore, we can multiply by any integer k both terms we added and still do not affect the original equation. This bring us to the general set of solutions for the Diophantine equation, which is:\n",
    "\n",
    "$$ x = x_0+k⋅b/g$$\n",
    "$$ y = y_0-k⋅a/g$$\n",
    "**Where k is an integer**\n",
    "\n",
    "[3] http://e-maxx.ru/algo/diofant_2_equation&usg=ALkJrhhAzF9yCVA7pOjdWhVRIFdPsBlzmA\n",
    "\n",
    "Below I added a function which give a set of solutions in given range of x and y:"
   ]
  },
  {
   "cell_type": "code",
   "execution_count": 3,
   "metadata": {},
   "outputs": [],
   "source": [
    "# Accept: original solutions (x0,y0), gcd, a, b\n",
    "#         list with range [min,max] for x and a list for range for y\n",
    "def solution_set(x0, y0, gcd, a, b, range_x=[0,100], range_y=[0,100]):\n",
    "    \n",
    "    k_min_x = int((range_x[0]-x0)/(b/gcd))\n",
    "    k_max_x = int((range_x[1]-x0)/(b/gcd))\n",
    "    k_max_y = int((y0-range_y[0])/(a/gcd))\n",
    "    k_min_y = int((y0-range_y[1])/(a/gcd))\n",
    "    \n",
    "    #k_min will be the max of k_min_x and k_min_y\n",
    "    k_min = max(k_min_x,k_min_y)\n",
    "    #k_max will be the min of k_max_x and k_max_y\n",
    "    k_max = min(k_max_x,k_max_y)\n",
    "    \n",
    "    solutions = []\n",
    "    for k in range(k_min,k_max+1):\n",
    "        x = int(x0 + k*(b/gcd))\n",
    "        y = int(y0 - k*(a/gcd))\n",
    "        solutions.append((x,y))\n",
    "        \n",
    "    return solutions\n"
   ]
  },
  {
   "cell_type": "markdown",
   "metadata": {},
   "source": [
    "### Real life example:\n",
    "For a simple example, we can look at the chemical equation below, where oxygen and glucose produce carbon dioxide and water:\n",
    "$$x⋅O_2 + y⋅C_6H_{12}O_6 => 6CO_2 + 6H_2O$$\n",
    "\n",
    "We see that if we will look at O, we will have the following equation:\n",
    "$$ x⋅2 + y⋅6 = 6⋅2 +  6 $$\n",
    "which can be writen as:\n",
    "$$ x⋅2 + y⋅6 = 18 $$\n",
    "\n",
    "In order to solve this equation we will use the functions of the extended Euclidean algoriths and send the results to the set of solution fucntion:\n"
   ]
  },
  {
   "cell_type": "code",
   "execution_count": 255,
   "metadata": {},
   "outputs": [
    {
     "data": {
      "text/plain": [
       "[(0, 3), (3, 2), (6, 1), (9, 0)]"
      ]
     },
     "execution_count": 255,
     "metadata": {},
     "output_type": "execute_result"
    }
   ],
   "source": [
    "l = ex_Euclidean(2,6,18)\n",
    "solution_set(x0=l[0],y0=l[1],gcd=l[2],a=2,b=6)"
   ]
  },
  {
   "cell_type": "markdown",
   "metadata": {},
   "source": [
    "We see that we have 4 options. Based on the Carbon we see that that y need to be 1, which leaves us with the solution (6,1). Of course it could be solved by system of equations, but it leads us to the solution in more complicated equations such as those in cryptography and other fields."
   ]
  },
  {
   "cell_type": "markdown",
   "metadata": {},
   "source": [
    "## Inverses of Modular Arithmetic\n",
    "The extended of the Euclidean algorithm also solves the equation $Nx = K$ (mod $m$) (the same as $Nx$ % $m = K$) where we are given N,K and m. if we will send to the function $a = N, b = m$ and $c = K$, the solution will be the x of the returns value which is the first index. Once we will have the solution we will need to convert it into the field of numbers we are dealing with using the mod value. \n",
    "\n",
    "Simple example:\n",
    "\n",
    "$2x = 1$ (mod $9$) or: $2x$ % $9 = 1$\n",
    "\n",
    "We can clearly see that the solution for x is 5. Let’s show how the extended Euclidean algorithm will return the solution:\n"
   ]
  },
  {
   "cell_type": "code",
   "execution_count": 116,
   "metadata": {},
   "outputs": [
    {
     "data": {
      "text/plain": [
       "-4"
      ]
     },
     "execution_count": 116,
     "metadata": {},
     "output_type": "execute_result"
    }
   ],
   "source": [
    "ex_Euclidean(2,9,1)[0]\n",
    "# [0] is the x of the solution"
   ]
  },
  {
   "cell_type": "markdown",
   "metadata": {},
   "source": [
    "-4 in modulo 9 is 5, like we said before.\n",
    "\n",
    "For more advanced example we will consider the following equation:\n",
    "$$27x = 1 (mod 392)$$"
   ]
  },
  {
   "cell_type": "code",
   "execution_count": 146,
   "metadata": {},
   "outputs": [
    {
     "data": {
      "text/plain": [
       "-29"
      ]
     },
     "execution_count": 146,
     "metadata": {},
     "output_type": "execute_result"
    }
   ],
   "source": [
    "ex_Euclidean(27,392,1)[0]"
   ]
  },
  {
   "cell_type": "markdown",
   "metadata": {},
   "source": [
    "-29 in modulo 392 is 363, which will be the solution for x.\n",
    "\n",
    "**check:** we will mutiply 27 by our solution 363 and will use mod 392:"
   ]
  },
  {
   "cell_type": "code",
   "execution_count": 118,
   "metadata": {},
   "outputs": [
    {
     "data": {
      "text/plain": [
       "1"
      ]
     },
     "execution_count": 118,
     "metadata": {},
     "output_type": "execute_result"
    }
   ],
   "source": [
    "(27*363) % 392"
   ]
  },
  {
   "cell_type": "code",
   "execution_count": null,
   "metadata": {},
   "outputs": [],
   "source": []
  }
 ],
 "metadata": {
  "kernelspec": {
   "display_name": "Python 3.7 (tensorflow)",
   "language": "python",
   "name": "tensorflow"
  },
  "language_info": {
   "codemirror_mode": {
    "name": "ipython",
    "version": 3
   },
   "file_extension": ".py",
   "mimetype": "text/x-python",
   "name": "python",
   "nbconvert_exporter": "python",
   "pygments_lexer": "ipython3",
   "version": "3.7.7"
  }
 },
 "nbformat": 4,
 "nbformat_minor": 4
}
